{
 "cells": [
  {
   "cell_type": "markdown",
   "metadata": {},
   "source": [
    "### CDF for rolling two dices\n",
    "\n",
    "Plotting the CDF for rolling two dices, where the x value is the sum of the two dices, and the y value is the CDF for the distribution."
   ]
  },
  {
   "cell_type": "code",
   "execution_count": 1,
   "metadata": {},
   "outputs": [],
   "source": [
    "import pandas as pd #dataframes\n",
    "import numpy as np #arrays\n",
    "import scipy as stats #statistics\n",
    "import matplotlib.pyplot as plt #visualization\n",
    "import random #random values"
   ]
  },
  {
   "cell_type": "code",
   "execution_count": 2,
   "metadata": {},
   "outputs": [],
   "source": [
    "#possible outcomes of rolling ONE dice\n",
    "possible_faces = [1, 2, 3, 4, 5, 6]\n",
    "random.choice(possible_faces)\n",
    "\n",
    "#number of times the dice will be rolled\n",
    "NUM_TRIALS = 10000\n",
    "\n",
    "#results for dice 1\n",
    "results_1 = np.array([random.choice(possible_faces)\n",
    "          for i in range(NUM_TRIALS)])\n",
    "\n",
    "#results for dice 2\n",
    "results_2 = np.array([random.choice(possible_faces)\n",
    "          for i in range(NUM_TRIALS)])\n",
    "\n",
    "#sum of results\n",
    "sum_of_results = results_1 + results_2"
   ]
  },
  {
   "cell_type": "code",
   "execution_count": 3,
   "metadata": {},
   "outputs": [
    {
     "data": {
      "text/html": [
       "<div>\n",
       "<style scoped>\n",
       "    .dataframe tbody tr th:only-of-type {\n",
       "        vertical-align: middle;\n",
       "    }\n",
       "\n",
       "    .dataframe tbody tr th {\n",
       "        vertical-align: top;\n",
       "    }\n",
       "\n",
       "    .dataframe thead th {\n",
       "        text-align: right;\n",
       "    }\n",
       "</style>\n",
       "<table border=\"1\" class=\"dataframe\">\n",
       "  <thead>\n",
       "    <tr style=\"text-align: right;\">\n",
       "      <th></th>\n",
       "      <th>SUM_OF_RESULTS</th>\n",
       "      <th>FREQ</th>\n",
       "    </tr>\n",
       "  </thead>\n",
       "  <tbody>\n",
       "    <tr>\n",
       "      <th>8</th>\n",
       "      <td>2</td>\n",
       "      <td>279</td>\n",
       "    </tr>\n",
       "    <tr>\n",
       "      <th>4</th>\n",
       "      <td>3</td>\n",
       "      <td>535</td>\n",
       "    </tr>\n",
       "    <tr>\n",
       "      <th>10</th>\n",
       "      <td>4</td>\n",
       "      <td>802</td>\n",
       "    </tr>\n",
       "    <tr>\n",
       "      <th>6</th>\n",
       "      <td>5</td>\n",
       "      <td>1091</td>\n",
       "    </tr>\n",
       "    <tr>\n",
       "      <th>1</th>\n",
       "      <td>6</td>\n",
       "      <td>1434</td>\n",
       "    </tr>\n",
       "    <tr>\n",
       "      <th>3</th>\n",
       "      <td>7</td>\n",
       "      <td>1696</td>\n",
       "    </tr>\n",
       "    <tr>\n",
       "      <th>0</th>\n",
       "      <td>8</td>\n",
       "      <td>1393</td>\n",
       "    </tr>\n",
       "    <tr>\n",
       "      <th>5</th>\n",
       "      <td>9</td>\n",
       "      <td>1098</td>\n",
       "    </tr>\n",
       "    <tr>\n",
       "      <th>2</th>\n",
       "      <td>10</td>\n",
       "      <td>855</td>\n",
       "    </tr>\n",
       "    <tr>\n",
       "      <th>7</th>\n",
       "      <td>11</td>\n",
       "      <td>532</td>\n",
       "    </tr>\n",
       "    <tr>\n",
       "      <th>9</th>\n",
       "      <td>12</td>\n",
       "      <td>285</td>\n",
       "    </tr>\n",
       "  </tbody>\n",
       "</table>\n",
       "</div>"
      ],
      "text/plain": [
       "    SUM_OF_RESULTS  FREQ\n",
       "8                2   279\n",
       "4                3   535\n",
       "10               4   802\n",
       "6                5  1091\n",
       "1                6  1434\n",
       "3                7  1696\n",
       "0                8  1393\n",
       "5                9  1098\n",
       "2               10   855\n",
       "7               11   532\n",
       "9               12   285"
      ]
     },
     "execution_count": 3,
     "metadata": {},
     "output_type": "execute_result"
    }
   ],
   "source": [
    "#finding the frequency of sum of results\n",
    "from collections import Counter\n",
    "counts = Counter(sum_of_results)\n",
    "c =counts\n",
    "\n",
    "#creating a dataframe to manipulate values easier\n",
    "df = pd.DataFrame.from_dict(c, orient='index').reset_index()\n",
    "df.columns = ['SUM_OF_RESULTS', 'FREQ']\n",
    "df = df.sort_values(by=['SUM_OF_RESULTS'])\n",
    "df"
   ]
  },
  {
   "cell_type": "code",
   "execution_count": 4,
   "metadata": {},
   "outputs": [
    {
     "data": {
      "text/html": [
       "<div>\n",
       "<style scoped>\n",
       "    .dataframe tbody tr th:only-of-type {\n",
       "        vertical-align: middle;\n",
       "    }\n",
       "\n",
       "    .dataframe tbody tr th {\n",
       "        vertical-align: top;\n",
       "    }\n",
       "\n",
       "    .dataframe thead th {\n",
       "        text-align: right;\n",
       "    }\n",
       "</style>\n",
       "<table border=\"1\" class=\"dataframe\">\n",
       "  <thead>\n",
       "    <tr style=\"text-align: right;\">\n",
       "      <th></th>\n",
       "      <th>SUM_OF_RESULTS</th>\n",
       "      <th>FREQ</th>\n",
       "      <th>PMF</th>\n",
       "      <th>CDF</th>\n",
       "    </tr>\n",
       "  </thead>\n",
       "  <tbody>\n",
       "    <tr>\n",
       "      <th>8</th>\n",
       "      <td>2</td>\n",
       "      <td>279</td>\n",
       "      <td>0.0279</td>\n",
       "      <td>0.0279</td>\n",
       "    </tr>\n",
       "    <tr>\n",
       "      <th>4</th>\n",
       "      <td>3</td>\n",
       "      <td>535</td>\n",
       "      <td>0.0535</td>\n",
       "      <td>0.0814</td>\n",
       "    </tr>\n",
       "    <tr>\n",
       "      <th>10</th>\n",
       "      <td>4</td>\n",
       "      <td>802</td>\n",
       "      <td>0.0802</td>\n",
       "      <td>0.1616</td>\n",
       "    </tr>\n",
       "    <tr>\n",
       "      <th>6</th>\n",
       "      <td>5</td>\n",
       "      <td>1091</td>\n",
       "      <td>0.1091</td>\n",
       "      <td>0.2707</td>\n",
       "    </tr>\n",
       "    <tr>\n",
       "      <th>1</th>\n",
       "      <td>6</td>\n",
       "      <td>1434</td>\n",
       "      <td>0.1434</td>\n",
       "      <td>0.4141</td>\n",
       "    </tr>\n",
       "    <tr>\n",
       "      <th>3</th>\n",
       "      <td>7</td>\n",
       "      <td>1696</td>\n",
       "      <td>0.1696</td>\n",
       "      <td>0.5837</td>\n",
       "    </tr>\n",
       "    <tr>\n",
       "      <th>0</th>\n",
       "      <td>8</td>\n",
       "      <td>1393</td>\n",
       "      <td>0.1393</td>\n",
       "      <td>0.7230</td>\n",
       "    </tr>\n",
       "    <tr>\n",
       "      <th>5</th>\n",
       "      <td>9</td>\n",
       "      <td>1098</td>\n",
       "      <td>0.1098</td>\n",
       "      <td>0.8328</td>\n",
       "    </tr>\n",
       "    <tr>\n",
       "      <th>2</th>\n",
       "      <td>10</td>\n",
       "      <td>855</td>\n",
       "      <td>0.0855</td>\n",
       "      <td>0.9183</td>\n",
       "    </tr>\n",
       "    <tr>\n",
       "      <th>7</th>\n",
       "      <td>11</td>\n",
       "      <td>532</td>\n",
       "      <td>0.0532</td>\n",
       "      <td>0.9715</td>\n",
       "    </tr>\n",
       "    <tr>\n",
       "      <th>9</th>\n",
       "      <td>12</td>\n",
       "      <td>285</td>\n",
       "      <td>0.0285</td>\n",
       "      <td>0.9721</td>\n",
       "    </tr>\n",
       "  </tbody>\n",
       "</table>\n",
       "</div>"
      ],
      "text/plain": [
       "    SUM_OF_RESULTS  FREQ     PMF     CDF\n",
       "8                2   279  0.0279  0.0279\n",
       "4                3   535  0.0535  0.0814\n",
       "10               4   802  0.0802  0.1616\n",
       "6                5  1091  0.1091  0.2707\n",
       "1                6  1434  0.1434  0.4141\n",
       "3                7  1696  0.1696  0.5837\n",
       "0                8  1393  0.1393  0.7230\n",
       "5                9  1098  0.1098  0.8328\n",
       "2               10   855  0.0855  0.9183\n",
       "7               11   532  0.0532  0.9715\n",
       "9               12   285  0.0285  0.9721"
      ]
     },
     "execution_count": 4,
     "metadata": {},
     "output_type": "execute_result"
    }
   ],
   "source": [
    "#define PMF\n",
    "df['PMF'] = df['FREQ']/10000\n",
    "\n",
    "#define CDF\n",
    "df['CDF'] = df['PMF'].rolling(min_periods=1, window=10).sum()\n",
    "\n",
    "#display header \n",
    "df"
   ]
  },
  {
   "cell_type": "code",
   "execution_count": 5,
   "metadata": {},
   "outputs": [
    {
     "data": {
      "text/plain": [
       "[<matplotlib.lines.Line2D at 0x25622ce2a20>]"
      ]
     },
     "execution_count": 5,
     "metadata": {},
     "output_type": "execute_result"
    },
    {
     "data": {
      "image/png": "[encoded data removed]",
      "text/plain": [
       "<Figure size 432x288 with 1 Axes>"
      ]
     },
     "metadata": {
      "needs_background": "light"
     },
     "output_type": "display_data"
    }
   ],
   "source": [
    "#plot CDF of the sum of two dices rolled 10000 times\n",
    "plt.step(df['SUM_OF_RESULTS'],df['CDF'])"
   ]
  },
  {
   "cell_type": "markdown",
   "metadata": {},
   "source": [
    "### Using Allen B. Downey's library to calculate the same CDF\n",
    "\n",
    "Plotting the CDF for rolling two dices, where the x value is the sum of the two dices, and the y value is the CDF for the distribution."
   ]
  },
  {
   "cell_type": "code",
   "execution_count": 6,
   "metadata": {},
   "outputs": [],
   "source": [
    "import thinkstats2 #statistics\n",
    "import thinkplot #visualization"
   ]
  },
  {
   "cell_type": "code",
   "execution_count": 7,
   "metadata": {},
   "outputs": [
    {
     "data": {
      "text/plain": [
       "Cdf([ 2  3  4  5  6  7  8  9 10 11 12], [0.0279 0.0814 0.1616 0.2707 0.4141 0.5837 0.723  0.8328 0.9183 0.9715\n",
       " 1.    ], 'Sum of Results')"
      ]
     },
     "execution_count": 7,
     "metadata": {},
     "output_type": "execute_result"
    }
   ],
   "source": [
    "#define CDF\n",
    "cdf = thinkstats2.Cdf(sum_of_results, label='Sum of Results')\n",
    "cdf"
   ]
  },
  {
   "cell_type": "code",
   "execution_count": 8,
   "metadata": {},
   "outputs": [
    {
     "data": {
      "image/png": "[encoded data removed]",
      "text/plain": [
       "<Figure size 432x288 with 1 Axes>"
      ]
     },
     "metadata": {
      "needs_background": "light"
     },
     "output_type": "display_data"
    }
   ],
   "source": [
    "#plot CDF of the sum of two dices rolled 10000 times\n",
    "thinkplot.Cdf(cdf)\n",
    "thinkplot.Config(xlabel='Sum of results two dices', ylabel='CDF', loc='upper left')"
   ]
  },
  {
   "cell_type": "markdown",
   "metadata": {},
   "source": [
    "## References\n",
    "\n",
    "- https://github.com/AllenDowney/ThinkStats2 Allen B. Downey - Thinkstats2\n",
    "- https://github.com/PythonCharmers/QuantFinance Edschofield - PythonCharmers - QuantFinance"
   ]
  },
  {
   "cell_type": "code",
   "execution_count": null,
   "metadata": {},
   "outputs": [],
   "source": []
  }
 ],
 "metadata": {
  "kernelspec": {
   "display_name": "Python 3",
   "language": "python",
   "name": "python3"
  },
  "language_info": {
   "codemirror_mode": {
    "name": "ipython",
    "version": 3
   },
   "file_extension": ".py",
   "mimetype": "text/x-python",
   "name": "python",
   "nbconvert_exporter": "python",
   "pygments_lexer": "ipython3",
   "version": "3.7.0"
  }
 },
 "nbformat": 4,
 "nbformat_minor": 2
}
